{
 "cells": [
  {
   "cell_type": "markdown",
   "id": "e5319bae",
   "metadata": {},
   "source": [
    "# Part 1: Gather all necessary information "
   ]
  },
  {
   "cell_type": "code",
   "execution_count": 4,
   "id": "6162700d",
   "metadata": {},
   "outputs": [],
   "source": [
    "import pandas as pd"
   ]
  },
  {
   "cell_type": "markdown",
   "id": "a423f75f",
   "metadata": {},
   "source": [
    "### Data from ArcGIS \n",
    "* Sentera Data\n",
    "* Field Metadata/ Master ID\n",
    "* Image Name of Furrow Vision"
   ]
  },
  {
   "cell_type": "code",
   "execution_count": 6,
   "id": "d4ada457",
   "metadata": {},
   "outputs": [],
   "source": [
    "#Data Generated from ArcGIS Pro Scrip\n",
    "sentera_furrow = pd.read_excel(\"516x_Project/Data/Sentera_Furrow_Field_Data.xlsx\")"
   ]
  },
  {
   "cell_type": "code",
   "execution_count": 7,
   "id": "fa36830e",
   "metadata": {},
   "outputs": [
    {
     "name": "stdout",
     "output_type": "stream",
     "text": [
      "Size of Data (13338, 79)\n",
      "Content: Index(['Unnamed: 0', 'OBJECTID', 'Join_Count', 'TARGET_FID', 'Join_Count_1',\n",
      "       'TARGET_FID_1', 'Shape_Leng', 'Master_ID', 'Plot_Numbe', 'Row_Number',\n",
      "       'Zone_Numbe', 'Plant_Numb', 'Descriptio', 'Shape_Le_1', 'Duplicate',\n",
      "       'FID_1', 'Row', 'Rep_Num', 'Notable', 'First_Dist', 'Last_Dist',\n",
      "       'Prev_Dist', 'Next_Dist', 'SNext_Dist', 'SNext_ID', 'SPrev_Dist',\n",
      "       'SPrev_ID', 'DNext_Dist', 'DNext_ID', 'DPrev_Dist', 'DPrev_ID',\n",
      "       'Day1Detct', 'Day1Area', 'Emerge', 'Day1Angle', 'Day1Diam', 'Day1Leaf',\n",
      "       'Day2Detct', 'Day2Area', 'Day2Angle', 'Day2Diam', 'Day2Leaf',\n",
      "       'Day3Detct', 'Day3Area', 'Day3Angle', 'Day3Diam', 'Day3Leaf',\n",
      "       'Day4Detct', 'Day4Area', 'Day4Angle', 'Day4Diam', 'Day4Leaf',\n",
      "       'Day5Detct', 'Day5Area', 'Day5Angle', 'Day5Diam', 'Day5Leaf',\n",
      "       'Day6Detct', 'Day6Area', 'Day6Angle', 'Day6Diam', 'Day6Leaf',\n",
      "       'Day9Detct', 'Day9Area', 'Day9Angle', 'Day9Diam', 'Day9Leaf',\n",
      "       'Day13Detct', 'Day13Area', 'Day18Detct', 'Day18Area', 'Note',\n",
      "       'Longitude', 'Latitude', 'Log_Name', 'Image_Name', 'Camera_Number',\n",
      "       'Number_Of_Seeds', 'SHAPE'],\n",
      "      dtype='object')\n"
     ]
    }
   ],
   "source": [
    "print(\"Size of Data\", sentera_furrow.shape)\n",
    "print(\"Content:\", sentera_furrow.columns)"
   ]
  },
  {
   "cell_type": "code",
   "execution_count": 9,
   "id": "62d60ddb",
   "metadata": {},
   "outputs": [],
   "source": [
    "yield_data = pd.read_excel(\"516x_Project/Data/Yield_Updated.xlsx\")"
   ]
  },
  {
   "cell_type": "markdown",
   "id": "262c9c06",
   "metadata": {},
   "source": [
    "### Yield Data (Needs Upate)"
   ]
  },
  {
   "cell_type": "code",
   "execution_count": 11,
   "id": "0baab33c",
   "metadata": {},
   "outputs": [
    {
     "name": "stdout",
     "output_type": "stream",
     "text": [
      "Size of Data (5337, 5)\n",
      "Content: Index(['Master_ID', 'On_Field', 'Tag_On_Desk', 'Outside_State_Notes', 'WetWt'], dtype='object')\n"
     ]
    }
   ],
   "source": [
    "print(\"Size of Data\", yield_data.shape)\n",
    "print(\"Content:\", yield_data.columns)"
   ]
  },
  {
   "cell_type": "markdown",
   "id": "57f650fa",
   "metadata": {},
   "source": [
    "### Furrow Vision Image Attributes"
   ]
  },
  {
   "cell_type": "code",
   "execution_count": 12,
   "id": "09677bbd",
   "metadata": {},
   "outputs": [],
   "source": [
    "furrow_data = pd.read_excel(\"516x_Project/Data/LabelData.xlsx\")"
   ]
  },
  {
   "cell_type": "code",
   "execution_count": 13,
   "id": "4a6bee75",
   "metadata": {
    "scrolled": true
   },
   "outputs": [
    {
     "name": "stdout",
     "output_type": "stream",
     "text": [
      "Size of Data (12314, 27)\n",
      "Content: Index(['Unnamed: 0', 'user', 'id', 'name', 'path name', 'width', 'height',\n",
      "       'shapes', 'Seed_points', 'Trainable', 'Residue occlusion',\n",
      "       'Seed tip (Pitch)', 'Seed germ (Roll)', 'Seed tip', 'Seed Type',\n",
      "       'seed count', 'Seed_points_2', 'Trench_points', 'Shallow seeding depth',\n",
      "       'Residue in trench', 'Is trench collapsed', 'Image not usable',\n",
      "       'Residue', 'Seed_points_3', 'Seed_points_4',\n",
      "       'TrenchDepthReference_points', 'Trench_points_0'],\n",
      "      dtype='object')\n"
     ]
    }
   ],
   "source": [
    "print(\"Size of Data\", furrow_data.shape)\n",
    "print(\"Content:\", furrow_data.columns)"
   ]
  },
  {
   "cell_type": "markdown",
   "id": "92ea9b28",
   "metadata": {},
   "source": [
    "### Dictionary to ralate row to planter treatment"
   ]
  },
  {
   "cell_type": "code",
   "execution_count": 21,
   "id": "3c2e819a",
   "metadata": {},
   "outputs": [],
   "source": [
    "treatments = {1:\"Depth Shallow\",\n",
    "             2: \"Depth Shallow\",\n",
    "             3: \"Control\",\n",
    "             4: \"Control\",\n",
    "             5: \"Seed Quality Low\",\n",
    "             6: \"Seed Quality Low\",\n",
    "             7: \"Seed Quality High\",\n",
    "             8: \"Seed Quality High\",\n",
    "             9: \"Poor Closing\",\n",
    "             10: \"Poor Closing\",\n",
    "             11: \"High Trench Quality\",\n",
    "             12: \"High Trench Quality\",\n",
    "             13: \"Low Trench Quality\",\n",
    "             14: \"Low Trench Quality\",\n",
    "             15: \"Low Trench Quality\",\n",
    "             16: \"Low Trench Quality\",\n",
    "             17: \"Control\",\n",
    "             18: \"Control\",\n",
    "             19: \"Depth Deep\",\n",
    "             20: \"Depth Deep\",\n",
    "             21: \"Residue Low\",\n",
    "             22: \"Residue Low\",\n",
    "             23: \"Residue High\",\n",
    "             24: \"Residue High\" }"
   ]
  },
  {
   "cell_type": "markdown",
   "id": "e457a076",
   "metadata": {},
   "source": [
    "### ID for Rows"
   ]
  },
  {
   "cell_type": "code",
   "execution_count": 22,
   "id": "b0eac07d",
   "metadata": {},
   "outputs": [],
   "source": [
    "plot_numbers = list(sentera_furrow[\"Plot_Numbe\"])\n",
    "row_numbers = list(sentera_furrow[\"Row_Number\"])\n",
    "\n",
    "field_ID = []\n",
    "for i in range(len(plot_numbers)):\n",
    "    field_ID.append(\"P\"+str(plot_numbers[i])+\"R\" + str(row_numbers[i]))"
   ]
  },
  {
   "cell_type": "markdown",
   "id": "111583fa",
   "metadata": {},
   "source": [
    "# Part 2: Join Data"
   ]
  },
  {
   "cell_type": "markdown",
   "id": "92d94786",
   "metadata": {},
   "source": [
    "### Add to Senetere-Furrow treatment information and Row ID"
   ]
  },
  {
   "cell_type": "code",
   "execution_count": 25,
   "id": "b94f6c7d",
   "metadata": {},
   "outputs": [],
   "source": [
    "sentera_furrow[\"field_ID\"] = field_ID"
   ]
  },
  {
   "cell_type": "code",
   "execution_count": 27,
   "id": "be7505e3",
   "metadata": {},
   "outputs": [
    {
     "data": {
      "text/html": [
       "<div>\n",
       "<style scoped>\n",
       "    .dataframe tbody tr th:only-of-type {\n",
       "        vertical-align: middle;\n",
       "    }\n",
       "\n",
       "    .dataframe tbody tr th {\n",
       "        vertical-align: top;\n",
       "    }\n",
       "\n",
       "    .dataframe thead th {\n",
       "        text-align: right;\n",
       "    }\n",
       "</style>\n",
       "<table border=\"1\" class=\"dataframe\">\n",
       "  <thead>\n",
       "    <tr style=\"text-align: right;\">\n",
       "      <th></th>\n",
       "      <th>Unnamed: 0</th>\n",
       "      <th>OBJECTID</th>\n",
       "      <th>Join_Count</th>\n",
       "      <th>TARGET_FID</th>\n",
       "      <th>Join_Count_1</th>\n",
       "      <th>TARGET_FID_1</th>\n",
       "      <th>Shape_Leng</th>\n",
       "      <th>Master_ID</th>\n",
       "      <th>Plot_Numbe</th>\n",
       "      <th>Row_Number</th>\n",
       "      <th>...</th>\n",
       "      <th>Day18Area</th>\n",
       "      <th>Note</th>\n",
       "      <th>Longitude</th>\n",
       "      <th>Latitude</th>\n",
       "      <th>Log_Name</th>\n",
       "      <th>Image_Name</th>\n",
       "      <th>Camera_Number</th>\n",
       "      <th>Number_Of_Seeds</th>\n",
       "      <th>SHAPE</th>\n",
       "      <th>field_ID</th>\n",
       "    </tr>\n",
       "  </thead>\n",
       "  <tbody>\n",
       "    <tr>\n",
       "      <th>13335</th>\n",
       "      <td>13335</td>\n",
       "      <td>13336</td>\n",
       "      <td>1</td>\n",
       "      <td>13335</td>\n",
       "      <td>1</td>\n",
       "      <td>13336</td>\n",
       "      <td>0.436825</td>\n",
       "      <td>728887</td>\n",
       "      <td>9</td>\n",
       "      <td>3</td>\n",
       "      <td>...</td>\n",
       "      <td>0.010646</td>\n",
       "      <td></td>\n",
       "      <td>-93.705440</td>\n",
       "      <td>42.042646</td>\n",
       "      <td>AmesISU_EastKelley_Corn_DigitalAcre_c4-00-ad-5...</td>\n",
       "      <td>image_sensorid_3_frame_206821_ts_1620152423.61...</td>\n",
       "      <td>3.0</td>\n",
       "      <td>2.0</td>\n",
       "      <td>{'hasZ': True, 'hasM': True, 'rings': [[[44161...</td>\n",
       "      <td>P9R3</td>\n",
       "    </tr>\n",
       "    <tr>\n",
       "      <th>13336</th>\n",
       "      <td>13336</td>\n",
       "      <td>13337</td>\n",
       "      <td>1</td>\n",
       "      <td>13336</td>\n",
       "      <td>1</td>\n",
       "      <td>13337</td>\n",
       "      <td>0.436825</td>\n",
       "      <td>729746</td>\n",
       "      <td>9</td>\n",
       "      <td>16</td>\n",
       "      <td>...</td>\n",
       "      <td>0.010466</td>\n",
       "      <td></td>\n",
       "      <td>-93.705320</td>\n",
       "      <td>42.042567</td>\n",
       "      <td>AmesISU_EastKelley_Corn_DigitalAcre_c4-00-ad-5...</td>\n",
       "      <td>image_sensorid_4_frame_247657_ts_1620155146.63...</td>\n",
       "      <td>4.0</td>\n",
       "      <td>1.0</td>\n",
       "      <td>{'hasZ': True, 'hasM': True, 'rings': [[[44162...</td>\n",
       "      <td>P9R16</td>\n",
       "    </tr>\n",
       "    <tr>\n",
       "      <th>13337</th>\n",
       "      <td>13337</td>\n",
       "      <td>13338</td>\n",
       "      <td>1</td>\n",
       "      <td>13337</td>\n",
       "      <td>1</td>\n",
       "      <td>13338</td>\n",
       "      <td>0.436825</td>\n",
       "      <td>730216</td>\n",
       "      <td>9</td>\n",
       "      <td>24</td>\n",
       "      <td>...</td>\n",
       "      <td>0.005031</td>\n",
       "      <td></td>\n",
       "      <td>-93.705247</td>\n",
       "      <td>42.042604</td>\n",
       "      <td>AmesISU_EastKelley_Corn_DigitalAcre_c4-00-ad-5...</td>\n",
       "      <td>image_sensorid_4_frame_284919_ts_1620157630.83...</td>\n",
       "      <td>4.0</td>\n",
       "      <td>0.0</td>\n",
       "      <td>{'hasZ': True, 'hasM': True, 'rings': [[[44163...</td>\n",
       "      <td>P9R24</td>\n",
       "    </tr>\n",
       "  </tbody>\n",
       "</table>\n",
       "<p>3 rows × 80 columns</p>\n",
       "</div>"
      ],
      "text/plain": [
       "       Unnamed: 0  OBJECTID  Join_Count  TARGET_FID  Join_Count_1  \\\n",
       "13335       13335     13336           1       13335             1   \n",
       "13336       13336     13337           1       13336             1   \n",
       "13337       13337     13338           1       13337             1   \n",
       "\n",
       "       TARGET_FID_1  Shape_Leng  Master_ID  Plot_Numbe  Row_Number  ...  \\\n",
       "13335         13336    0.436825     728887           9           3  ...   \n",
       "13336         13337    0.436825     729746           9          16  ...   \n",
       "13337         13338    0.436825     730216           9          24  ...   \n",
       "\n",
       "       Day18Area  Note  Longitude   Latitude  \\\n",
       "13335   0.010646       -93.705440  42.042646   \n",
       "13336   0.010466       -93.705320  42.042567   \n",
       "13337   0.005031       -93.705247  42.042604   \n",
       "\n",
       "                                                Log_Name  \\\n",
       "13335  AmesISU_EastKelley_Corn_DigitalAcre_c4-00-ad-5...   \n",
       "13336  AmesISU_EastKelley_Corn_DigitalAcre_c4-00-ad-5...   \n",
       "13337  AmesISU_EastKelley_Corn_DigitalAcre_c4-00-ad-5...   \n",
       "\n",
       "                                              Image_Name  Camera_Number  \\\n",
       "13335  image_sensorid_3_frame_206821_ts_1620152423.61...            3.0   \n",
       "13336  image_sensorid_4_frame_247657_ts_1620155146.63...            4.0   \n",
       "13337  image_sensorid_4_frame_284919_ts_1620157630.83...            4.0   \n",
       "\n",
       "       Number_Of_Seeds                                              SHAPE  \\\n",
       "13335              2.0  {'hasZ': True, 'hasM': True, 'rings': [[[44161...   \n",
       "13336              1.0  {'hasZ': True, 'hasM': True, 'rings': [[[44162...   \n",
       "13337              0.0  {'hasZ': True, 'hasM': True, 'rings': [[[44163...   \n",
       "\n",
       "       field_ID  \n",
       "13335      P9R3  \n",
       "13336     P9R16  \n",
       "13337     P9R24  \n",
       "\n",
       "[3 rows x 80 columns]"
      ]
     },
     "execution_count": 27,
     "metadata": {},
     "output_type": "execute_result"
    }
   ],
   "source": [
    "sentera_furrow.tail(3)"
   ]
  },
  {
   "cell_type": "code",
   "execution_count": 33,
   "id": "c64aef68",
   "metadata": {},
   "outputs": [],
   "source": [
    "row = sentera_furrow[\"Row_Number\"]\n",
    "treat_list = []\n",
    "for i in range(sentera_furrow.shape[0]):\n",
    "    treat = treatments[row[i]]\n",
    "    treat_list.append(treat)\n",
    "\n",
    "sentera_furrow[\"Treatment\"] = treat_list"
   ]
  },
  {
   "cell_type": "code",
   "execution_count": 34,
   "id": "dd907bdd",
   "metadata": {},
   "outputs": [
    {
     "data": {
      "text/html": [
       "<div>\n",
       "<style scoped>\n",
       "    .dataframe tbody tr th:only-of-type {\n",
       "        vertical-align: middle;\n",
       "    }\n",
       "\n",
       "    .dataframe tbody tr th {\n",
       "        vertical-align: top;\n",
       "    }\n",
       "\n",
       "    .dataframe thead th {\n",
       "        text-align: right;\n",
       "    }\n",
       "</style>\n",
       "<table border=\"1\" class=\"dataframe\">\n",
       "  <thead>\n",
       "    <tr style=\"text-align: right;\">\n",
       "      <th></th>\n",
       "      <th>Unnamed: 0</th>\n",
       "      <th>OBJECTID</th>\n",
       "      <th>Join_Count</th>\n",
       "      <th>TARGET_FID</th>\n",
       "      <th>Join_Count_1</th>\n",
       "      <th>TARGET_FID_1</th>\n",
       "      <th>Shape_Leng</th>\n",
       "      <th>Master_ID</th>\n",
       "      <th>Plot_Numbe</th>\n",
       "      <th>Row_Number</th>\n",
       "      <th>...</th>\n",
       "      <th>Note</th>\n",
       "      <th>Longitude</th>\n",
       "      <th>Latitude</th>\n",
       "      <th>Log_Name</th>\n",
       "      <th>Image_Name</th>\n",
       "      <th>Camera_Number</th>\n",
       "      <th>Number_Of_Seeds</th>\n",
       "      <th>SHAPE</th>\n",
       "      <th>field_ID</th>\n",
       "      <th>Treatment</th>\n",
       "    </tr>\n",
       "  </thead>\n",
       "  <tbody>\n",
       "    <tr>\n",
       "      <th>0</th>\n",
       "      <td>0</td>\n",
       "      <td>1</td>\n",
       "      <td>1</td>\n",
       "      <td>0</td>\n",
       "      <td>0</td>\n",
       "      <td>1</td>\n",
       "      <td>0.485013</td>\n",
       "      <td>716904</td>\n",
       "      <td>1</td>\n",
       "      <td>1</td>\n",
       "      <td>...</td>\n",
       "      <td>missed detection</td>\n",
       "      <td>NaN</td>\n",
       "      <td>NaN</td>\n",
       "      <td>NaN</td>\n",
       "      <td>NaN</td>\n",
       "      <td>NaN</td>\n",
       "      <td>NaN</td>\n",
       "      <td>{'hasZ': True, 'hasM': True, 'rings': [[[44161...</td>\n",
       "      <td>P1R1</td>\n",
       "      <td>Depth Shallow</td>\n",
       "    </tr>\n",
       "    <tr>\n",
       "      <th>1</th>\n",
       "      <td>1</td>\n",
       "      <td>2</td>\n",
       "      <td>1</td>\n",
       "      <td>1</td>\n",
       "      <td>0</td>\n",
       "      <td>2</td>\n",
       "      <td>0.485013</td>\n",
       "      <td>716905</td>\n",
       "      <td>1</td>\n",
       "      <td>1</td>\n",
       "      <td>...</td>\n",
       "      <td></td>\n",
       "      <td>NaN</td>\n",
       "      <td>NaN</td>\n",
       "      <td>NaN</td>\n",
       "      <td>NaN</td>\n",
       "      <td>NaN</td>\n",
       "      <td>NaN</td>\n",
       "      <td>{'hasZ': True, 'hasM': True, 'rings': [[[44161...</td>\n",
       "      <td>P1R1</td>\n",
       "      <td>Depth Shallow</td>\n",
       "    </tr>\n",
       "    <tr>\n",
       "      <th>2</th>\n",
       "      <td>2</td>\n",
       "      <td>3</td>\n",
       "      <td>0</td>\n",
       "      <td>2</td>\n",
       "      <td>0</td>\n",
       "      <td>3</td>\n",
       "      <td>0.485013</td>\n",
       "      <td>716906</td>\n",
       "      <td>1</td>\n",
       "      <td>1</td>\n",
       "      <td>...</td>\n",
       "      <td>NaN</td>\n",
       "      <td>NaN</td>\n",
       "      <td>NaN</td>\n",
       "      <td>NaN</td>\n",
       "      <td>NaN</td>\n",
       "      <td>NaN</td>\n",
       "      <td>NaN</td>\n",
       "      <td>{'hasZ': True, 'hasM': True, 'rings': [[[44161...</td>\n",
       "      <td>P1R1</td>\n",
       "      <td>Depth Shallow</td>\n",
       "    </tr>\n",
       "  </tbody>\n",
       "</table>\n",
       "<p>3 rows × 81 columns</p>\n",
       "</div>"
      ],
      "text/plain": [
       "   Unnamed: 0  OBJECTID  Join_Count  TARGET_FID  Join_Count_1  TARGET_FID_1  \\\n",
       "0           0         1           1           0             0             1   \n",
       "1           1         2           1           1             0             2   \n",
       "2           2         3           0           2             0             3   \n",
       "\n",
       "   Shape_Leng  Master_ID  Plot_Numbe  Row_Number  ...              Note  \\\n",
       "0    0.485013     716904           1           1  ...  missed detection   \n",
       "1    0.485013     716905           1           1  ...                     \n",
       "2    0.485013     716906           1           1  ...               NaN   \n",
       "\n",
       "   Longitude  Latitude  Log_Name  Image_Name  Camera_Number  Number_Of_Seeds  \\\n",
       "0        NaN       NaN       NaN         NaN            NaN              NaN   \n",
       "1        NaN       NaN       NaN         NaN            NaN              NaN   \n",
       "2        NaN       NaN       NaN         NaN            NaN              NaN   \n",
       "\n",
       "                                               SHAPE  field_ID      Treatment  \n",
       "0  {'hasZ': True, 'hasM': True, 'rings': [[[44161...      P1R1  Depth Shallow  \n",
       "1  {'hasZ': True, 'hasM': True, 'rings': [[[44161...      P1R1  Depth Shallow  \n",
       "2  {'hasZ': True, 'hasM': True, 'rings': [[[44161...      P1R1  Depth Shallow  \n",
       "\n",
       "[3 rows x 81 columns]"
      ]
     },
     "execution_count": 34,
     "metadata": {},
     "output_type": "execute_result"
    }
   ],
   "source": [
    "sentera_furrow.head(3)"
   ]
  },
  {
   "cell_type": "markdown",
   "id": "6c6a42d4",
   "metadata": {},
   "source": [
    "### Attribute Join of Yield and Image Attribute "
   ]
  },
  {
   "cell_type": "code",
   "execution_count": 35,
   "id": "90d1c8ef",
   "metadata": {},
   "outputs": [],
   "source": [
    "join_1 =  pd.merge(sentera_furrow, furrow_data, how =\"left\", left_on = \"Image_Name\", right_on =  \"name\")"
   ]
  },
  {
   "cell_type": "code",
   "execution_count": 36,
   "id": "d0252850",
   "metadata": {},
   "outputs": [],
   "source": [
    "join_2 = pd.merge(join_1, yield_data, how =\"left\", on = \"Master_ID\")"
   ]
  },
  {
   "cell_type": "code",
   "execution_count": 38,
   "id": "503c51cc",
   "metadata": {},
   "outputs": [],
   "source": [
    "complete_data = join_2"
   ]
  },
  {
   "cell_type": "markdown",
   "id": "ef5c0934",
   "metadata": {},
   "source": [
    "# Part 4: Eliminate Row with Null Yield"
   ]
  },
  {
   "cell_type": "code",
   "execution_count": 39,
   "id": "6c99da4a",
   "metadata": {},
   "outputs": [
    {
     "data": {
      "text/plain": [
       "(5337, 112)"
      ]
     },
     "execution_count": 39,
     "metadata": {},
     "output_type": "execute_result"
    }
   ],
   "source": [
    "complete_data.dropna(subset = [\"WetWt\"], inplace = True)\n",
    "complete_data.shape"
   ]
  },
  {
   "cell_type": "markdown",
   "id": "08746c21",
   "metadata": {},
   "source": [
    "# Part 5: Creat dictionaries with means (plot and row)"
   ]
  },
  {
   "cell_type": "code",
   "execution_count": 40,
   "id": "0099adea",
   "metadata": {},
   "outputs": [],
   "source": [
    "#Calculate mean of each column when group by row \n",
    "row_means = complete_data.groupby(by=\"field_ID\").mean()\n",
    "row_means  = row_means.reset_index()\n",
    "#Calculate mean of each column when group by plot \n",
    "plot_means = complete_data.groupby(by=\"Plot_Numbe\").mean()\n",
    "plot_means = plot_means.reset_index()\n",
    "\n",
    "\n",
    "#Create dictionaries of means  \n",
    "row_yield = dict(zip(row_means.field_ID, row_means.WetWt))\n",
    "row_area13 = dict(zip(row_means.field_ID, row_means.Day13Area))\n",
    "\n",
    "plot_yield = dict(zip(plot_means.Plot_Numbe, plot_means.WetWt))\n",
    "plot_area13 = dict(zip(plot_means.Plot_Numbe, plot_means.Day13Area))\n"
   ]
  },
  {
   "cell_type": "markdown",
   "id": "550ce890",
   "metadata": {},
   "source": [
    "# Part 6: Normalize Data"
   ]
  },
  {
   "cell_type": "markdown",
   "id": "1492b5c6",
   "metadata": {},
   "source": [
    "### Normalization Function"
   ]
  },
  {
   "cell_type": "code",
   "execution_count": 42,
   "id": "67a03c8d",
   "metadata": {},
   "outputs": [],
   "source": [
    "def normalization(values, mean_dict, categories):\n",
    "    norm_list = []\n",
    "    for i in range(len(values)):\n",
    "        norm_value = mean_dict[categories[i]]\n",
    "        norm_list.append(values[i]/norm_value)\n",
    "    return norm_list"
   ]
  },
  {
   "cell_type": "markdown",
   "id": "87fbf4a0",
   "metadata": {},
   "source": [
    "### Creating and adding normalized values to df"
   ]
  },
  {
   "cell_type": "code",
   "execution_count": 44,
   "id": "51398aad",
   "metadata": {},
   "outputs": [],
   "source": [
    "plot_number_list  = list(complete_data[\"Plot_Numbe\"])\n",
    "field_ID_list = list(complete_data[\"field_ID\"])\n",
    "WetWt_list = list(complete_data[\"WetWt\"])\n",
    "area13_list = list(complete_data[\"Day13Area\"])\n",
    "\n",
    "\n",
    "yield_norm_plot = normalization (WetWt_list,plot_yield,plot_number_list)\n",
    "complete_data[\"yield_norm_plot\"] = yield_norm_plot\n",
    "\n",
    "yield_norm_row = normalization (WetWt_list,row_yield,field_ID_list)\n",
    "complete_data[\"yield_norm_row\"] = yield_norm_row\n",
    "\n",
    "area13_norm_plot = normalization (area13_list, plot_area13,plot_number_list)\n",
    "complete_data[\"area13_norm_plot\"] = area13_norm_plot\n",
    "\n",
    "area13_norm_row = normalization (area13_list, row_area13,field_ID_list)\n",
    "complete_data[\"area13_norm_row\"] = area13_norm_row"
   ]
  },
  {
   "cell_type": "code",
   "execution_count": 46,
   "id": "94d6a449",
   "metadata": {},
   "outputs": [],
   "source": [
    "complete_data.to_excel(\"516x_Project/Data/Complete_Data.xlsx\")"
   ]
  },
  {
   "cell_type": "code",
   "execution_count": null,
   "id": "bf9f2181",
   "metadata": {},
   "outputs": [],
   "source": []
  }
 ],
 "metadata": {
  "kernelspec": {
   "display_name": "Python 3",
   "language": "python",
   "name": "python3"
  },
  "language_info": {
   "codemirror_mode": {
    "name": "ipython",
    "version": 3
   },
   "file_extension": ".py",
   "mimetype": "text/x-python",
   "name": "python",
   "nbconvert_exporter": "python",
   "pygments_lexer": "ipython3",
   "version": "3.8.8"
  }
 },
 "nbformat": 4,
 "nbformat_minor": 5
}
